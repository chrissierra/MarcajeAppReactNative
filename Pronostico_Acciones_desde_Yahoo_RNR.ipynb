{
  "nbformat": 4,
  "nbformat_minor": 0,
  "metadata": {
    "colab": {
      "name": "Pronostico Acciones desde Yahoo RNR",
      "provenance": [],
      "collapsed_sections": [],
      "include_colab_link": true
    },
    "kernelspec": {
      "name": "python3",
      "display_name": "Python 3"
    }
  },
  "cells": [
    {
      "cell_type": "markdown",
      "metadata": {
        "id": "view-in-github",
        "colab_type": "text"
      },
      "source": [
        "<a href=\"https://colab.research.google.com/github/chrissierra/MarcajeAppReactNative/blob/master/Pronostico_Acciones_desde_Yahoo_RNR.ipynb\" target=\"_parent\"><img src=\"https://colab.research.google.com/assets/colab-badge.svg\" alt=\"Open In Colab\"/></a>"
      ]
    },
    {
      "cell_type": "markdown",
      "metadata": {
        "id": "sogHZxHmobSc",
        "colab_type": "text"
      },
      "source": [
        "# Red neuronal recurrente\n",
        "# Parte 1 - Preprocesamiento de datos\n",
        "# Importación de las bibliotecas"
      ]
    },
    {
      "cell_type": "code",
      "metadata": {
        "id": "NORiwS3XoruG",
        "colab_type": "code",
        "colab": {}
      },
      "source": [
        "import numpy as np\n",
        "import matplotlib.pyplot as plt\n",
        "import pandas as pd"
      ],
      "execution_count": 2,
      "outputs": []
    },
    {
      "cell_type": "markdown",
      "metadata": {
        "id": "PHjG9gx3bfEU",
        "colab_type": "text"
      },
      "source": [
        "\n",
        "# Importando el set de entrenamiento sin usar drive csv\n"
      ]
    },
    {
      "cell_type": "code",
      "metadata": {
        "id": "MY6ev5bFbm0M",
        "colab_type": "code",
        "colab": {}
      },
      "source": [
        "#pip install Quandl"
      ],
      "execution_count": 3,
      "outputs": []
    },
    {
      "cell_type": "code",
      "metadata": {
        "id": "-o15t8gybiJu",
        "colab_type": "code",
        "colab": {
          "base_uri": "https://localhost:8080/",
          "height": 435
        },
        "outputId": "68564563-dd23-46ba-dab9-44cfe13b750c"
      },
      "source": [
        "\"\"\"\n",
        "Para tomar un csv yahoo. ------------------------------------------------------------------------------------------------\n",
        "\"\"\"\n",
        "import pandas as pd\n",
        "import requests\n",
        "from bs4 import BeautifulSoup\n",
        "from datetime import datetime\n",
        "import pandas_datareader.data as web\n",
        "#import quandl as qdl\n",
        "# from pandas_datareader import data as pdr\n",
        "ticker = \"GLD\"\n",
        "dataset_train = web.DataReader(ticker, 'yahoo', start=\"\")\n",
        "\n",
        "training_set = dataset_train.iloc[:, 2:3].values\n",
        "\n",
        "\n",
        "dataset_train\n"
      ],
      "execution_count": 4,
      "outputs": [
        {
          "output_type": "execute_result",
          "data": {
            "text/html": [
              "<div>\n",
              "<style scoped>\n",
              "    .dataframe tbody tr th:only-of-type {\n",
              "        vertical-align: middle;\n",
              "    }\n",
              "\n",
              "    .dataframe tbody tr th {\n",
              "        vertical-align: top;\n",
              "    }\n",
              "\n",
              "    .dataframe thead th {\n",
              "        text-align: right;\n",
              "    }\n",
              "</style>\n",
              "<table border=\"1\" class=\"dataframe\">\n",
              "  <thead>\n",
              "    <tr style=\"text-align: right;\">\n",
              "      <th></th>\n",
              "      <th>High</th>\n",
              "      <th>Low</th>\n",
              "      <th>Open</th>\n",
              "      <th>Close</th>\n",
              "      <th>Volume</th>\n",
              "      <th>Adj Close</th>\n",
              "    </tr>\n",
              "    <tr>\n",
              "      <th>Date</th>\n",
              "      <th></th>\n",
              "      <th></th>\n",
              "      <th></th>\n",
              "      <th></th>\n",
              "      <th></th>\n",
              "      <th></th>\n",
              "    </tr>\n",
              "  </thead>\n",
              "  <tbody>\n",
              "    <tr>\n",
              "      <th>2015-09-02</th>\n",
              "      <td>109.339996</td>\n",
              "      <td>108.459999</td>\n",
              "      <td>109.010002</td>\n",
              "      <td>108.620003</td>\n",
              "      <td>4115700</td>\n",
              "      <td>108.620003</td>\n",
              "    </tr>\n",
              "    <tr>\n",
              "      <th>2015-09-03</th>\n",
              "      <td>108.320000</td>\n",
              "      <td>107.559998</td>\n",
              "      <td>107.769997</td>\n",
              "      <td>107.839996</td>\n",
              "      <td>3913100</td>\n",
              "      <td>107.839996</td>\n",
              "    </tr>\n",
              "    <tr>\n",
              "      <th>2015-09-04</th>\n",
              "      <td>107.559998</td>\n",
              "      <td>107.070000</td>\n",
              "      <td>107.139999</td>\n",
              "      <td>107.489998</td>\n",
              "      <td>4025000</td>\n",
              "      <td>107.489998</td>\n",
              "    </tr>\n",
              "    <tr>\n",
              "      <th>2015-09-08</th>\n",
              "      <td>107.940002</td>\n",
              "      <td>107.309998</td>\n",
              "      <td>107.599998</td>\n",
              "      <td>107.519997</td>\n",
              "      <td>5982100</td>\n",
              "      <td>107.519997</td>\n",
              "    </tr>\n",
              "    <tr>\n",
              "      <th>2015-09-09</th>\n",
              "      <td>106.709999</td>\n",
              "      <td>105.480003</td>\n",
              "      <td>106.639999</td>\n",
              "      <td>106.129997</td>\n",
              "      <td>8855100</td>\n",
              "      <td>106.129997</td>\n",
              "    </tr>\n",
              "    <tr>\n",
              "      <th>...</th>\n",
              "      <td>...</td>\n",
              "      <td>...</td>\n",
              "      <td>...</td>\n",
              "      <td>...</td>\n",
              "      <td>...</td>\n",
              "      <td>...</td>\n",
              "    </tr>\n",
              "    <tr>\n",
              "      <th>2020-08-25</th>\n",
              "      <td>181.250000</td>\n",
              "      <td>179.729996</td>\n",
              "      <td>181.059998</td>\n",
              "      <td>181.220001</td>\n",
              "      <td>10056100</td>\n",
              "      <td>181.220001</td>\n",
              "    </tr>\n",
              "    <tr>\n",
              "      <th>2020-08-26</th>\n",
              "      <td>183.580002</td>\n",
              "      <td>180.199997</td>\n",
              "      <td>180.259995</td>\n",
              "      <td>183.360001</td>\n",
              "      <td>12715800</td>\n",
              "      <td>183.360001</td>\n",
              "    </tr>\n",
              "    <tr>\n",
              "      <th>2020-08-27</th>\n",
              "      <td>185.169998</td>\n",
              "      <td>179.369995</td>\n",
              "      <td>185.000000</td>\n",
              "      <td>181.240005</td>\n",
              "      <td>16299200</td>\n",
              "      <td>181.240005</td>\n",
              "    </tr>\n",
              "    <tr>\n",
              "      <th>2020-08-28</th>\n",
              "      <td>185.399994</td>\n",
              "      <td>183.399994</td>\n",
              "      <td>183.979996</td>\n",
              "      <td>184.389999</td>\n",
              "      <td>13195400</td>\n",
              "      <td>184.389999</td>\n",
              "    </tr>\n",
              "    <tr>\n",
              "      <th>2020-08-31</th>\n",
              "      <td>185.529999</td>\n",
              "      <td>184.300003</td>\n",
              "      <td>184.789993</td>\n",
              "      <td>184.830002</td>\n",
              "      <td>9859754</td>\n",
              "      <td>184.830002</td>\n",
              "    </tr>\n",
              "  </tbody>\n",
              "</table>\n",
              "<p>1258 rows × 6 columns</p>\n",
              "</div>"
            ],
            "text/plain": [
              "                  High         Low  ...    Volume   Adj Close\n",
              "Date                                ...                      \n",
              "2015-09-02  109.339996  108.459999  ...   4115700  108.620003\n",
              "2015-09-03  108.320000  107.559998  ...   3913100  107.839996\n",
              "2015-09-04  107.559998  107.070000  ...   4025000  107.489998\n",
              "2015-09-08  107.940002  107.309998  ...   5982100  107.519997\n",
              "2015-09-09  106.709999  105.480003  ...   8855100  106.129997\n",
              "...                ...         ...  ...       ...         ...\n",
              "2020-08-25  181.250000  179.729996  ...  10056100  181.220001\n",
              "2020-08-26  183.580002  180.199997  ...  12715800  183.360001\n",
              "2020-08-27  185.169998  179.369995  ...  16299200  181.240005\n",
              "2020-08-28  185.399994  183.399994  ...  13195400  184.389999\n",
              "2020-08-31  185.529999  184.300003  ...   9859754  184.830002\n",
              "\n",
              "[1258 rows x 6 columns]"
            ]
          },
          "metadata": {
            "tags": []
          },
          "execution_count": 4
        }
      ]
    },
    {
      "cell_type": "markdown",
      "metadata": {
        "id": "ulJVu5Lfo4Zu",
        "colab_type": "text"
      },
      "source": [
        "# Escalado de características"
      ]
    },
    {
      "cell_type": "code",
      "metadata": {
        "id": "4-xcRFJFo734",
        "colab_type": "code",
        "colab": {}
      },
      "source": [
        "from sklearn.preprocessing import MinMaxScaler\n",
        "sc = MinMaxScaler(feature_range = (0, 1))\n",
        "training_set_scaled = sc.fit_transform(training_set)"
      ],
      "execution_count": 5,
      "outputs": []
    },
    {
      "cell_type": "markdown",
      "metadata": {
        "id": "GkQ3bbYoo-L-",
        "colab_type": "text"
      },
      "source": [
        "# Creación de una estructura de datos con 60 pasos de tiempo y 1 salida"
      ]
    },
    {
      "cell_type": "code",
      "metadata": {
        "id": "0kdGiNVmpDAd",
        "colab_type": "code",
        "colab": {
          "base_uri": "https://localhost:8080/",
          "height": 252
        },
        "outputId": "7b5b55d0-f5df-4614-a384-c8fe7fc059b5"
      },
      "source": [
        "X_train = []\n",
        "y_train = []\n",
        "dias_para_pronosticar = 120\n",
        "dias_pronosticados = 20\n",
        "for i in range(dias_para_pronosticar, training_set.shape[0] - dias_pronosticados):\n",
        "    X_train.append(training_set_scaled[i-dias_para_pronosticar:i, 0])\n",
        "    y_train.append(training_set_scaled[ i:i+dias_pronosticados , 0])\n",
        "X_train, y_train = np.array(X_train), np.array(y_train)\n",
        "y_train"
      ],
      "execution_count": 6,
      "outputs": [
        {
          "output_type": "execute_result",
          "data": {
            "text/plain": [
              "array([[0.17991816, 0.17787116, 0.17959488, ..., 0.19478561, 0.20265033,\n",
              "        0.17043739],\n",
              "       [0.17787116, 0.17959488, 0.19198447, ..., 0.20265033, 0.17043739,\n",
              "        0.17076058],\n",
              "       [0.17959488, 0.19198447, 0.18767504, ..., 0.17043739, 0.17076058,\n",
              "        0.17032971],\n",
              "       ...,\n",
              "       [0.88903251, 0.90056011, 0.90637792, ..., 0.88332255, 0.86339144,\n",
              "        0.85477257],\n",
              "       [0.90056011, 0.90637792, 0.91241107, ..., 0.86339144, 0.85477257,\n",
              "        0.90583921],\n",
              "       [0.90637792, 0.91241107, 0.97748318, ..., 0.85477257, 0.90583921,\n",
              "        0.89485015]])"
            ]
          },
          "metadata": {
            "tags": []
          },
          "execution_count": 6
        }
      ]
    },
    {
      "cell_type": "markdown",
      "metadata": {
        "id": "_ZVDaGlCpGU7",
        "colab_type": "text"
      },
      "source": [
        "# Remodelación"
      ]
    },
    {
      "cell_type": "code",
      "metadata": {
        "id": "zElRLj0KpKSD",
        "colab_type": "code",
        "colab": {}
      },
      "source": [
        "X_train = np.reshape(X_train, (X_train.shape[0], X_train.shape[1], 1))"
      ],
      "execution_count": 7,
      "outputs": []
    },
    {
      "cell_type": "markdown",
      "metadata": {
        "id": "n9rMhnkmpNGZ",
        "colab_type": "text"
      },
      "source": [
        "# Parte 2 - Construyendo el RNN\n",
        "\n",
        "# Importación de las librerías y paquetes Keras"
      ]
    },
    {
      "cell_type": "code",
      "metadata": {
        "id": "LJPP8wZSpU9J",
        "colab_type": "code",
        "colab": {}
      },
      "source": [
        "from keras.models import Sequential\n",
        "from keras.layers import Dense\n",
        "from keras.layers import LSTM\n",
        "from keras.layers import Dropout"
      ],
      "execution_count": 8,
      "outputs": []
    },
    {
      "cell_type": "markdown",
      "metadata": {
        "id": "ZNl-JoCmpXx7",
        "colab_type": "text"
      },
      "source": [
        "# Inicializando el RNN"
      ]
    },
    {
      "cell_type": "code",
      "metadata": {
        "id": "UGRZNmmmqZ-0",
        "colab_type": "code",
        "colab": {}
      },
      "source": [
        "regressor = Sequential()"
      ],
      "execution_count": 9,
      "outputs": []
    },
    {
      "cell_type": "markdown",
      "metadata": {
        "id": "KAC_uGtkqcSo",
        "colab_type": "text"
      },
      "source": [
        "# Añadiendo la primera capa de LSTM y algo de regularización de la deserción"
      ]
    },
    {
      "cell_type": "code",
      "metadata": {
        "id": "-LOkDNu5rsFC",
        "colab_type": "code",
        "colab": {}
      },
      "source": [
        "regressor.add(LSTM(units = 50, return_sequences = True, input_shape = (X_train.shape[1], 1)))\n",
        "regressor.add(Dropout(0.2))"
      ],
      "execution_count": 10,
      "outputs": []
    },
    {
      "cell_type": "markdown",
      "metadata": {
        "id": "GWEUlWimruVq",
        "colab_type": "text"
      },
      "source": [
        "# Añadiendo la segunda capa de LSTM y algo de regularización de la deserción"
      ]
    },
    {
      "cell_type": "code",
      "metadata": {
        "id": "PimAnEvjr2ca",
        "colab_type": "code",
        "colab": {}
      },
      "source": [
        "regressor.add(LSTM(units = 50, return_sequences = True))\n",
        "regressor.add(Dropout(0.2))"
      ],
      "execution_count": 11,
      "outputs": []
    },
    {
      "cell_type": "markdown",
      "metadata": {
        "id": "4g9EvnFVsaBA",
        "colab_type": "text"
      },
      "source": [
        "# Añadiendo la tercera capa de LSTM y algo de regularización de la deserción"
      ]
    },
    {
      "cell_type": "code",
      "metadata": {
        "id": "moJoVufrsbBQ",
        "colab_type": "code",
        "colab": {}
      },
      "source": [
        "regressor.add(LSTM(units = 50, return_sequences = True))\n",
        "regressor.add(Dropout(0.2))"
      ],
      "execution_count": 12,
      "outputs": []
    },
    {
      "cell_type": "markdown",
      "metadata": {
        "id": "6MPhdL_Bsf9w",
        "colab_type": "text"
      },
      "source": [
        "\n",
        "# Añadiendo la cuarta capa de LSTM y algo de regularización de la deserción"
      ]
    },
    {
      "cell_type": "code",
      "metadata": {
        "id": "tdK6l_QPsn0Z",
        "colab_type": "code",
        "colab": {}
      },
      "source": [
        "regressor.add(LSTM(units = 50))\n",
        "regressor.add(Dropout(0.2))"
      ],
      "execution_count": 13,
      "outputs": []
    },
    {
      "cell_type": "markdown",
      "metadata": {
        "id": "KqcX3NGRt4MX",
        "colab_type": "text"
      },
      "source": [
        "# Añadiendo la capa de salida"
      ]
    },
    {
      "cell_type": "code",
      "metadata": {
        "id": "S7SGt7R3t5g3",
        "colab_type": "code",
        "colab": {}
      },
      "source": [
        "regressor.add(Dense(units = dias_pronosticados))"
      ],
      "execution_count": 14,
      "outputs": []
    },
    {
      "cell_type": "markdown",
      "metadata": {
        "id": "1yLoH7bit7ug",
        "colab_type": "text"
      },
      "source": [
        "# Compilación del RNN"
      ]
    },
    {
      "cell_type": "code",
      "metadata": {
        "id": "QNKgqhftuA68",
        "colab_type": "code",
        "colab": {}
      },
      "source": [
        "regressor.compile(optimizer = 'adam', loss = 'mean_squared_error')"
      ],
      "execution_count": 15,
      "outputs": []
    },
    {
      "cell_type": "markdown",
      "metadata": {
        "id": "3eVdLjLquEH2",
        "colab_type": "text"
      },
      "source": [
        "# Ajustar el RNN al set de entrenamiento"
      ]
    },
    {
      "cell_type": "code",
      "metadata": {
        "id": "QD3H9yp7uNyJ",
        "colab_type": "code",
        "colab": {
          "base_uri": "https://localhost:8080/",
          "height": 1000
        },
        "outputId": "19ca317b-d22a-4d0b-e9b6-feeb840c1f9a"
      },
      "source": [
        "regressor.fit(X_train, y_train, epochs = 100, batch_size = 32)"
      ],
      "execution_count": 16,
      "outputs": [
        {
          "output_type": "stream",
          "text": [
            "Epoch 1/100\n",
            "35/35 [==============================] - 8s 215ms/step - loss: 0.0346\n",
            "Epoch 2/100\n",
            "35/35 [==============================] - 8s 219ms/step - loss: 0.0083\n",
            "Epoch 3/100\n",
            "35/35 [==============================] - 8s 217ms/step - loss: 0.0071\n",
            "Epoch 4/100\n",
            "35/35 [==============================] - 8s 219ms/step - loss: 0.0068\n",
            "Epoch 5/100\n",
            "35/35 [==============================] - 8s 220ms/step - loss: 0.0059\n",
            "Epoch 6/100\n",
            "35/35 [==============================] - 8s 218ms/step - loss: 0.0052\n",
            "Epoch 7/100\n",
            "35/35 [==============================] - 8s 221ms/step - loss: 0.0050\n",
            "Epoch 8/100\n",
            "35/35 [==============================] - 8s 223ms/step - loss: 0.0045\n",
            "Epoch 9/100\n",
            "35/35 [==============================] - 8s 227ms/step - loss: 0.0044\n",
            "Epoch 10/100\n",
            "35/35 [==============================] - 8s 224ms/step - loss: 0.0056\n",
            "Epoch 11/100\n",
            "35/35 [==============================] - 8s 227ms/step - loss: 0.0038\n",
            "Epoch 12/100\n",
            "35/35 [==============================] - 8s 225ms/step - loss: 0.0037\n",
            "Epoch 13/100\n",
            "35/35 [==============================] - 8s 227ms/step - loss: 0.0036\n",
            "Epoch 14/100\n",
            "35/35 [==============================] - 8s 222ms/step - loss: 0.0038\n",
            "Epoch 15/100\n",
            "35/35 [==============================] - 8s 226ms/step - loss: 0.0034\n",
            "Epoch 16/100\n",
            "35/35 [==============================] - 8s 223ms/step - loss: 0.0034\n",
            "Epoch 17/100\n",
            "35/35 [==============================] - 8s 226ms/step - loss: 0.0033\n",
            "Epoch 18/100\n",
            "35/35 [==============================] - 8s 227ms/step - loss: 0.0031\n",
            "Epoch 19/100\n",
            "35/35 [==============================] - 8s 228ms/step - loss: 0.0031\n",
            "Epoch 20/100\n",
            "35/35 [==============================] - 8s 226ms/step - loss: 0.0030\n",
            "Epoch 21/100\n",
            "35/35 [==============================] - 8s 226ms/step - loss: 0.0029\n",
            "Epoch 22/100\n",
            "35/35 [==============================] - 8s 228ms/step - loss: 0.0030\n",
            "Epoch 23/100\n",
            "35/35 [==============================] - 8s 233ms/step - loss: 0.0028\n",
            "Epoch 24/100\n",
            "35/35 [==============================] - 8s 226ms/step - loss: 0.0029\n",
            "Epoch 25/100\n",
            "35/35 [==============================] - 9s 247ms/step - loss: 0.0032\n",
            "Epoch 26/100\n",
            "35/35 [==============================] - 8s 229ms/step - loss: 0.0029\n",
            "Epoch 27/100\n",
            "35/35 [==============================] - 8s 225ms/step - loss: 0.0028\n",
            "Epoch 28/100\n",
            "35/35 [==============================] - 8s 221ms/step - loss: 0.0025\n",
            "Epoch 29/100\n",
            "35/35 [==============================] - 8s 222ms/step - loss: 0.0027\n",
            "Epoch 30/100\n",
            "35/35 [==============================] - 8s 223ms/step - loss: 0.0027\n",
            "Epoch 31/100\n",
            "35/35 [==============================] - 8s 227ms/step - loss: 0.0026\n",
            "Epoch 32/100\n",
            "35/35 [==============================] - 8s 227ms/step - loss: 0.0028\n",
            "Epoch 33/100\n",
            "35/35 [==============================] - 8s 230ms/step - loss: 0.0024\n",
            "Epoch 34/100\n",
            "35/35 [==============================] - 8s 222ms/step - loss: 0.0025\n",
            "Epoch 35/100\n",
            "35/35 [==============================] - 8s 220ms/step - loss: 0.0025\n",
            "Epoch 36/100\n",
            "35/35 [==============================] - 8s 221ms/step - loss: 0.0025\n",
            "Epoch 37/100\n",
            "35/35 [==============================] - 8s 226ms/step - loss: 0.0023\n",
            "Epoch 38/100\n",
            "35/35 [==============================] - 8s 227ms/step - loss: 0.0022\n",
            "Epoch 39/100\n",
            "35/35 [==============================] - 8s 228ms/step - loss: 0.0027\n",
            "Epoch 40/100\n",
            "35/35 [==============================] - 8s 227ms/step - loss: 0.0025\n",
            "Epoch 41/100\n",
            "35/35 [==============================] - 8s 226ms/step - loss: 0.0023\n",
            "Epoch 42/100\n",
            "35/35 [==============================] - 8s 224ms/step - loss: 0.0024\n",
            "Epoch 43/100\n",
            "35/35 [==============================] - 8s 224ms/step - loss: 0.0023\n",
            "Epoch 44/100\n",
            "35/35 [==============================] - 8s 222ms/step - loss: 0.0022\n",
            "Epoch 45/100\n",
            "35/35 [==============================] - 8s 224ms/step - loss: 0.0023\n",
            "Epoch 46/100\n",
            "35/35 [==============================] - 8s 223ms/step - loss: 0.0022\n",
            "Epoch 47/100\n",
            "35/35 [==============================] - 8s 225ms/step - loss: 0.0022\n",
            "Epoch 48/100\n",
            "35/35 [==============================] - 8s 222ms/step - loss: 0.0022\n",
            "Epoch 49/100\n",
            "35/35 [==============================] - 8s 223ms/step - loss: 0.0023\n",
            "Epoch 50/100\n",
            "35/35 [==============================] - 8s 224ms/step - loss: 0.0021\n",
            "Epoch 51/100\n",
            "35/35 [==============================] - 8s 223ms/step - loss: 0.0024\n",
            "Epoch 52/100\n",
            "35/35 [==============================] - 8s 226ms/step - loss: 0.0022\n",
            "Epoch 53/100\n",
            "35/35 [==============================] - 8s 224ms/step - loss: 0.0022\n",
            "Epoch 54/100\n",
            "35/35 [==============================] - 8s 221ms/step - loss: 0.0022\n",
            "Epoch 55/100\n",
            "35/35 [==============================] - 8s 224ms/step - loss: 0.0021\n",
            "Epoch 56/100\n",
            "35/35 [==============================] - 8s 230ms/step - loss: 0.0020\n",
            "Epoch 57/100\n",
            "35/35 [==============================] - 8s 223ms/step - loss: 0.0022\n",
            "Epoch 58/100\n",
            "35/35 [==============================] - 8s 234ms/step - loss: 0.0021\n",
            "Epoch 59/100\n",
            "35/35 [==============================] - 8s 226ms/step - loss: 0.0020\n",
            "Epoch 60/100\n",
            "35/35 [==============================] - 8s 232ms/step - loss: 0.0020\n",
            "Epoch 61/100\n",
            "35/35 [==============================] - 8s 229ms/step - loss: 0.0023\n",
            "Epoch 62/100\n",
            "35/35 [==============================] - 8s 231ms/step - loss: 0.0024\n",
            "Epoch 63/100\n",
            "35/35 [==============================] - 8s 235ms/step - loss: 0.0022\n",
            "Epoch 64/100\n",
            "35/35 [==============================] - 8s 226ms/step - loss: 0.0020\n",
            "Epoch 65/100\n",
            "35/35 [==============================] - 8s 221ms/step - loss: 0.0020\n",
            "Epoch 66/100\n",
            "35/35 [==============================] - 8s 220ms/step - loss: 0.0020\n",
            "Epoch 67/100\n",
            "35/35 [==============================] - 8s 225ms/step - loss: 0.0019\n",
            "Epoch 68/100\n",
            "35/35 [==============================] - 8s 229ms/step - loss: 0.0020\n",
            "Epoch 69/100\n",
            "35/35 [==============================] - 8s 225ms/step - loss: 0.0019\n",
            "Epoch 70/100\n",
            "35/35 [==============================] - 8s 225ms/step - loss: 0.0020\n",
            "Epoch 71/100\n",
            "35/35 [==============================] - 8s 228ms/step - loss: 0.0019\n",
            "Epoch 72/100\n",
            "35/35 [==============================] - 8s 228ms/step - loss: 0.0020\n",
            "Epoch 73/100\n",
            "35/35 [==============================] - 8s 226ms/step - loss: 0.0019\n",
            "Epoch 74/100\n",
            "35/35 [==============================] - 8s 219ms/step - loss: 0.0019\n",
            "Epoch 75/100\n",
            "35/35 [==============================] - 8s 227ms/step - loss: 0.0019\n",
            "Epoch 76/100\n",
            "35/35 [==============================] - 8s 221ms/step - loss: 0.0019\n",
            "Epoch 77/100\n",
            "35/35 [==============================] - 7s 214ms/step - loss: 0.0019\n",
            "Epoch 78/100\n",
            "35/35 [==============================] - 8s 220ms/step - loss: 0.0021\n",
            "Epoch 79/100\n",
            "35/35 [==============================] - 8s 218ms/step - loss: 0.0021\n",
            "Epoch 80/100\n",
            "35/35 [==============================] - 8s 217ms/step - loss: 0.0020\n",
            "Epoch 81/100\n",
            "35/35 [==============================] - 8s 219ms/step - loss: 0.0018\n",
            "Epoch 82/100\n",
            "35/35 [==============================] - 8s 224ms/step - loss: 0.0019\n",
            "Epoch 83/100\n",
            "35/35 [==============================] - 8s 218ms/step - loss: 0.0018\n",
            "Epoch 84/100\n",
            "35/35 [==============================] - 8s 219ms/step - loss: 0.0019\n",
            "Epoch 85/100\n",
            "35/35 [==============================] - 8s 220ms/step - loss: 0.0019\n",
            "Epoch 86/100\n",
            "35/35 [==============================] - 8s 217ms/step - loss: 0.0021\n",
            "Epoch 87/100\n",
            "35/35 [==============================] - 8s 225ms/step - loss: 0.0021\n",
            "Epoch 88/100\n",
            "35/35 [==============================] - 8s 221ms/step - loss: 0.0021\n",
            "Epoch 89/100\n",
            "35/35 [==============================] - 8s 220ms/step - loss: 0.0018\n",
            "Epoch 90/100\n",
            "35/35 [==============================] - 8s 220ms/step - loss: 0.0019\n",
            "Epoch 91/100\n",
            "35/35 [==============================] - 8s 219ms/step - loss: 0.0020\n",
            "Epoch 92/100\n",
            "35/35 [==============================] - 8s 227ms/step - loss: 0.0018\n",
            "Epoch 93/100\n",
            "35/35 [==============================] - 8s 219ms/step - loss: 0.0019\n",
            "Epoch 94/100\n",
            "35/35 [==============================] - 8s 218ms/step - loss: 0.0018\n",
            "Epoch 95/100\n",
            "35/35 [==============================] - 8s 217ms/step - loss: 0.0018\n",
            "Epoch 96/100\n",
            "35/35 [==============================] - 8s 217ms/step - loss: 0.0020\n",
            "Epoch 97/100\n",
            "35/35 [==============================] - 8s 221ms/step - loss: 0.0020\n",
            "Epoch 98/100\n",
            "35/35 [==============================] - 8s 226ms/step - loss: 0.0018\n",
            "Epoch 99/100\n",
            "35/35 [==============================] - 8s 228ms/step - loss: 0.0019\n",
            "Epoch 100/100\n",
            "35/35 [==============================] - 8s 223ms/step - loss: 0.0017\n"
          ],
          "name": "stdout"
        },
        {
          "output_type": "execute_result",
          "data": {
            "text/plain": [
              "<tensorflow.python.keras.callbacks.History at 0x7f8acb5c65c0>"
            ]
          },
          "metadata": {
            "tags": []
          },
          "execution_count": 16
        }
      ]
    },
    {
      "cell_type": "markdown",
      "metadata": {
        "id": "qI-r3O-4uQEb",
        "colab_type": "text"
      },
      "source": [
        "# Parte 3 - Hacer las predicciones y visualizar los resultados\n",
        "\n",
        "\n"
      ]
    },
    {
      "cell_type": "markdown",
      "metadata": {
        "id": "-G6NTUV9uccN",
        "colab_type": "text"
      },
      "source": [
        "# Generar datos para hacer predicción"
      ]
    },
    {
      "cell_type": "code",
      "metadata": {
        "id": "Bzx_j9Tvuhzn",
        "colab_type": "code",
        "colab": {
          "base_uri": "https://localhost:8080/",
          "height": 89
        },
        "outputId": "aba21264-1102-4c24-a2c5-d95e261e1c30"
      },
      "source": [
        "#dataset_total = pd.concat((dataset_train['Open'], dataset_test['Open']), axis = 0)\n",
        "inputs = dataset_train[len(dataset_train) -  dias_para_pronosticar:].values\n",
        "\n",
        "inputs = inputs.reshape(-1,1)\n",
        "inputs = sc.transform(inputs)\n",
        "\n",
        "X_test = []\n",
        "\n",
        "X_test.append(inputs[0:dias_para_pronosticar, 0])\n",
        "\n",
        "X_test = np.array(X_test)\n",
        "\n",
        "X_test = np.reshape(X_test, (X_test.shape[0], X_test.shape[1], 1))\n",
        "\n",
        "predicted_stock_price = regressor.predict(X_test)\n",
        "\n",
        "predicted_stock_price = sc.inverse_transform(predicted_stock_price)\n",
        "\n",
        "predicted_stock_price"
      ],
      "execution_count": 17,
      "outputs": [
        {
          "output_type": "execute_result",
          "data": {
            "text/plain": [
              "array([[230.57999, 236.77892, 234.99236, 237.46657, 237.15218, 238.49654,\n",
              "        242.75337, 247.22469, 245.20528, 243.95769, 246.76657, 250.74435,\n",
              "        249.09102, 248.73686, 245.88322, 246.15225, 247.63042, 246.37968,\n",
              "        248.73409, 246.35756]], dtype=float32)"
            ]
          },
          "metadata": {
            "tags": []
          },
          "execution_count": 17
        }
      ]
    },
    {
      "cell_type": "code",
      "metadata": {
        "id": "QuxQ2Kv-l0Bl",
        "colab_type": "code",
        "colab": {
          "base_uri": "https://localhost:8080/",
          "height": 379
        },
        "outputId": "29273446-deee-4403-c20b-5b96fde0f3b9"
      },
      "source": [
        "# Generar acá la prueba, necesito tomar los 70 ultimos datos, usar los 60. y los 10 restantes contrastarlos con la predicción\n",
        "inputs_2 = dataset_train[len(dataset_train) -  (dias_para_pronosticar + dias_pronosticados):].values\n",
        "inputs_2 = dataset_train[0:dias_para_pronosticar].values\n",
        "inputs_2 = inputs_2.reshape(-1,1)\n",
        "inputs_2 = sc.transform(inputs_2)\n",
        "\n",
        "X_test_2 = []\n",
        "\n",
        "X_test_2.append(inputs_2[0:dias_para_pronosticar, 0])\n",
        "\n",
        "X_test_2 = np.array(X_test_2)\n",
        "\n",
        "X_test_2 = np.reshape(X_test_2, (X_test_2.shape[0], X_test_2.shape[1], 1))\n",
        "\n",
        "predicted_stock_price_2 = regressor.predict(X_test_2)\n",
        "\n",
        "predicted_stock_price_2 = sc.inverse_transform(predicted_stock_price_2)\n",
        "#contraste =  dataset_train[:].values\n",
        "\n",
        "datos = web.DataReader(ticker, 'yahoo')\n",
        "contraste = datos.iloc[  len(datos)- dias_pronosticados: , 2:3].values\n",
        "contraste"
      ],
      "execution_count": 18,
      "outputs": [
        {
          "output_type": "execute_result",
          "data": {
            "text/plain": [
              "array([[185.61000061],\n",
              "       [191.6499939 ],\n",
              "       [193.74000549],\n",
              "       [192.71000671],\n",
              "       [191.19999695],\n",
              "       [183.57000732],\n",
              "       [182.61000061],\n",
              "       [181.55999756],\n",
              "       [183.44000244],\n",
              "       [184.69000244],\n",
              "       [189.17999268],\n",
              "       [187.21000671],\n",
              "       [181.19000244],\n",
              "       [182.13999939],\n",
              "       [182.91000366],\n",
              "       [181.05999756],\n",
              "       [180.25999451],\n",
              "       [185.        ],\n",
              "       [183.97999573],\n",
              "       [184.78999329]])"
            ]
          },
          "metadata": {
            "tags": []
          },
          "execution_count": 18
        }
      ]
    },
    {
      "cell_type": "markdown",
      "metadata": {
        "id": "mqeOSTQUukFL",
        "colab_type": "text"
      },
      "source": [
        "# Visualización de los resultados"
      ]
    },
    {
      "cell_type": "code",
      "metadata": {
        "id": "ejrIvoNJuqKl",
        "colab_type": "code",
        "colab": {
          "base_uri": "https://localhost:8080/",
          "height": 295
        },
        "outputId": "6f6817b0-d44d-479c-e5f1-b97f1254343b"
      },
      "source": [
        "fecha = datetime.today().strftime(\"%d/%m/%Y\")\n",
        "plt.plot(predicted_stock_price[0], color = 'red', label = 'Predicción +20 Post Ultimo precio ')\n",
        "#plt.plot(predicted_stock_price_2[0], color = 'orange', label = 'Prediccion 10 días antes')\n",
        "#plt.plot(contraste, color = 'yellow', label = 'Precio Real últimos 20 días')\n",
        "\n",
        "plt.title('Prediccion de precio al '+ fecha + ' Para ' + ticker)\n",
        "plt.xlabel('Tiempo')\n",
        "plt.ylabel('Nivel de precio')\n",
        "plt.legend()\n",
        "plt.show()"
      ],
      "execution_count": 19,
      "outputs": [
        {
          "output_type": "display_data",
          "data": {
            "image/png": "[encoded data removed]",
            "text/plain": [
              "<Figure size 432x288 with 1 Axes>"
            ]
          },
          "metadata": {
            "tags": [],
            "needs_background": "light"
          }
        }
      ]
    },
    {
      "cell_type": "code",
      "metadata": {
        "id": "GNnxD27cje56",
        "colab_type": "code",
        "colab": {
          "base_uri": "https://localhost:8080/",
          "height": 35
        },
        "outputId": "beaa8a03-8b7f-4175-a7e8-124d3fe9c500"
      },
      "source": [
        "fecha = datetime.today().strftime(\"%d/%m/%Y\")\n",
        "fecha"
      ],
      "execution_count": 20,
      "outputs": [
        {
          "output_type": "execute_result",
          "data": {
            "application/vnd.google.colaboratory.intrinsic+json": {
              "type": "string"
            },
            "text/plain": [
              "'31/08/2020'"
            ]
          },
          "metadata": {
            "tags": []
          },
          "execution_count": 20
        }
      ]
    },
    {
      "cell_type": "code",
      "metadata": {
        "id": "8Q107Vjf3MFA",
        "colab_type": "code",
        "colab": {
          "base_uri": "https://localhost:8080/",
          "height": 144
        },
        "outputId": "1c2c95b5-0ab6-4d06-bca4-c1adba355535"
      },
      "source": [
        "training_set"
      ],
      "execution_count": 21,
      "outputs": [
        {
          "output_type": "execute_result",
          "data": {
            "text/plain": [
              "array([[109.01000214],\n",
              "       [107.76999664],\n",
              "       [107.13999939],\n",
              "       ...,\n",
              "       [185.        ],\n",
              "       [183.97999573],\n",
              "       [184.78999329]])"
            ]
          },
          "metadata": {
            "tags": []
          },
          "execution_count": 21
        }
      ]
    }
  ]
}